{
  "nbformat": 4,
  "nbformat_minor": 0,
  "metadata": {
    "colab": {
      "name": "Census_Income_Zabyna.ipynb",
      "provenance": [],
      "collapsed_sections": [],
      "toc_visible": true
    },
    "kernelspec": {
      "name": "python3",
      "display_name": "Python 3"
    }
  },
  "cells": [
    {
      "cell_type": "markdown",
      "metadata": {
        "id": "aUqm9707JyeK",
        "colab_type": "text"
      },
      "source": [
        "#**Importing Libraries and Dataset**"
      ]
    },
    {
      "cell_type": "code",
      "metadata": {
        "id": "lYgxdala2WWn",
        "colab_type": "code",
        "colab": {}
      },
      "source": [
        "import numpy as np\n",
        "import pandas as pd\n",
        "import matplotlib.pyplot as plt\n",
        "import seaborn as sns\n",
        "\n",
        "sns.set(style='white', rc={'figure.figsize':(20,10)})\n",
        "\n",
        "from sklearn.linear_model import LogisticRegression # linear model for classification\n",
        "from sklearn.ensemble import RandomForestClassifier\n",
        "from sklearn.ensemble import GradientBoostingClassifier\n",
        "from xgboost import XGBClassifier\n",
        "\n",
        "from sklearn.preprocessing import StandardScaler\n",
        "from sklearn.model_selection import GridSearchCV\n",
        "from sklearn.model_selection import cross_val_score\n",
        "from sklearn.model_selection import train_test_split # split dataset\n",
        "from sklearn.metrics import confusion_matrix\n",
        "from sklearn.metrics import accuracy_score\n",
        "from sklearn.metrics import roc_auc_score\n",
        "from sklearn.metrics import roc_curve\n",
        "from sklearn.metrics import recall_score\n",
        "from sklearn.metrics import precision_score\n",
        "from sklearn.metrics import classification_report\n",
        "from sklearn.datasets import load_digits\n",
        "from sklearn.feature_selection import SelectKBest, chi2\n",
        "#from sklearn.preprocessing import OneHotEncoder\n",
        "from sklearn.preprocessing import LabelEncoder"
      ],
      "execution_count": 0,
      "outputs": []
    },
    {
      "cell_type": "code",
      "metadata": {
        "id": "reWfqMQK241o",
        "colab_type": "code",
        "outputId": "32ec9694-bbd4-484e-cb03-19bd04814564",
        "colab": {
          "base_uri": "https://localhost:8080/",
          "height": 756
        }
      },
      "source": [
        "# Read Data\n",
        "data=pd.read_csv(\"census.csv\", index_col=0)\n",
        "#data=pd.read_csv(\"census.csv\")        for jupyter notebook\n",
        "data"
      ],
      "execution_count": 56,
      "outputs": [
        {
          "output_type": "execute_result",
          "data": {
            "text/html": [
              "<div>\n",
              "<style scoped>\n",
              "    .dataframe tbody tr th:only-of-type {\n",
              "        vertical-align: middle;\n",
              "    }\n",
              "\n",
              "    .dataframe tbody tr th {\n",
              "        vertical-align: top;\n",
              "    }\n",
              "\n",
              "    .dataframe thead th {\n",
              "        text-align: right;\n",
              "    }\n",
              "</style>\n",
              "<table border=\"1\" class=\"dataframe\">\n",
              "  <thead>\n",
              "    <tr style=\"text-align: right;\">\n",
              "      <th></th>\n",
              "      <th>workclass</th>\n",
              "      <th>education_level</th>\n",
              "      <th>education-num</th>\n",
              "      <th>marital-status</th>\n",
              "      <th>occupation</th>\n",
              "      <th>relationship</th>\n",
              "      <th>race</th>\n",
              "      <th>sex</th>\n",
              "      <th>capital-gain</th>\n",
              "      <th>capital-loss</th>\n",
              "      <th>hours-per-week</th>\n",
              "      <th>native-country</th>\n",
              "      <th>income</th>\n",
              "    </tr>\n",
              "    <tr>\n",
              "      <th>age</th>\n",
              "      <th></th>\n",
              "      <th></th>\n",
              "      <th></th>\n",
              "      <th></th>\n",
              "      <th></th>\n",
              "      <th></th>\n",
              "      <th></th>\n",
              "      <th></th>\n",
              "      <th></th>\n",
              "      <th></th>\n",
              "      <th></th>\n",
              "      <th></th>\n",
              "      <th></th>\n",
              "    </tr>\n",
              "  </thead>\n",
              "  <tbody>\n",
              "    <tr>\n",
              "      <th>39</th>\n",
              "      <td>State-gov</td>\n",
              "      <td>Bachelors</td>\n",
              "      <td>13.0</td>\n",
              "      <td>Never-married</td>\n",
              "      <td>Adm-clerical</td>\n",
              "      <td>Not-in-family</td>\n",
              "      <td>White</td>\n",
              "      <td>Male</td>\n",
              "      <td>2174.0</td>\n",
              "      <td>0.0</td>\n",
              "      <td>40.0</td>\n",
              "      <td>United-States</td>\n",
              "      <td>&lt;=50K</td>\n",
              "    </tr>\n",
              "    <tr>\n",
              "      <th>50</th>\n",
              "      <td>Self-emp-not-inc</td>\n",
              "      <td>Bachelors</td>\n",
              "      <td>13.0</td>\n",
              "      <td>Married-civ-spouse</td>\n",
              "      <td>Exec-managerial</td>\n",
              "      <td>Husband</td>\n",
              "      <td>White</td>\n",
              "      <td>Male</td>\n",
              "      <td>0.0</td>\n",
              "      <td>0.0</td>\n",
              "      <td>13.0</td>\n",
              "      <td>United-States</td>\n",
              "      <td>&lt;=50K</td>\n",
              "    </tr>\n",
              "    <tr>\n",
              "      <th>38</th>\n",
              "      <td>Private</td>\n",
              "      <td>HS-grad</td>\n",
              "      <td>9.0</td>\n",
              "      <td>Divorced</td>\n",
              "      <td>Handlers-cleaners</td>\n",
              "      <td>Not-in-family</td>\n",
              "      <td>White</td>\n",
              "      <td>Male</td>\n",
              "      <td>0.0</td>\n",
              "      <td>0.0</td>\n",
              "      <td>40.0</td>\n",
              "      <td>United-States</td>\n",
              "      <td>&lt;=50K</td>\n",
              "    </tr>\n",
              "    <tr>\n",
              "      <th>53</th>\n",
              "      <td>Private</td>\n",
              "      <td>11th</td>\n",
              "      <td>7.0</td>\n",
              "      <td>Married-civ-spouse</td>\n",
              "      <td>Handlers-cleaners</td>\n",
              "      <td>Husband</td>\n",
              "      <td>Black</td>\n",
              "      <td>Male</td>\n",
              "      <td>0.0</td>\n",
              "      <td>0.0</td>\n",
              "      <td>40.0</td>\n",
              "      <td>United-States</td>\n",
              "      <td>&lt;=50K</td>\n",
              "    </tr>\n",
              "    <tr>\n",
              "      <th>28</th>\n",
              "      <td>Private</td>\n",
              "      <td>Bachelors</td>\n",
              "      <td>13.0</td>\n",
              "      <td>Married-civ-spouse</td>\n",
              "      <td>Prof-specialty</td>\n",
              "      <td>Wife</td>\n",
              "      <td>Black</td>\n",
              "      <td>Female</td>\n",
              "      <td>0.0</td>\n",
              "      <td>0.0</td>\n",
              "      <td>40.0</td>\n",
              "      <td>Cuba</td>\n",
              "      <td>&lt;=50K</td>\n",
              "    </tr>\n",
              "    <tr>\n",
              "      <th>...</th>\n",
              "      <td>...</td>\n",
              "      <td>...</td>\n",
              "      <td>...</td>\n",
              "      <td>...</td>\n",
              "      <td>...</td>\n",
              "      <td>...</td>\n",
              "      <td>...</td>\n",
              "      <td>...</td>\n",
              "      <td>...</td>\n",
              "      <td>...</td>\n",
              "      <td>...</td>\n",
              "      <td>...</td>\n",
              "      <td>...</td>\n",
              "    </tr>\n",
              "    <tr>\n",
              "      <th>33</th>\n",
              "      <td>Private</td>\n",
              "      <td>Bachelors</td>\n",
              "      <td>13.0</td>\n",
              "      <td>Never-married</td>\n",
              "      <td>Prof-specialty</td>\n",
              "      <td>Own-child</td>\n",
              "      <td>White</td>\n",
              "      <td>Male</td>\n",
              "      <td>0.0</td>\n",
              "      <td>0.0</td>\n",
              "      <td>40.0</td>\n",
              "      <td>United-States</td>\n",
              "      <td>&lt;=50K</td>\n",
              "    </tr>\n",
              "    <tr>\n",
              "      <th>39</th>\n",
              "      <td>Private</td>\n",
              "      <td>Bachelors</td>\n",
              "      <td>13.0</td>\n",
              "      <td>Divorced</td>\n",
              "      <td>Prof-specialty</td>\n",
              "      <td>Not-in-family</td>\n",
              "      <td>White</td>\n",
              "      <td>Female</td>\n",
              "      <td>0.0</td>\n",
              "      <td>0.0</td>\n",
              "      <td>36.0</td>\n",
              "      <td>United-States</td>\n",
              "      <td>&lt;=50K</td>\n",
              "    </tr>\n",
              "    <tr>\n",
              "      <th>38</th>\n",
              "      <td>Private</td>\n",
              "      <td>Bachelors</td>\n",
              "      <td>13.0</td>\n",
              "      <td>Married-civ-spouse</td>\n",
              "      <td>Prof-specialty</td>\n",
              "      <td>Husband</td>\n",
              "      <td>White</td>\n",
              "      <td>Male</td>\n",
              "      <td>0.0</td>\n",
              "      <td>0.0</td>\n",
              "      <td>50.0</td>\n",
              "      <td>United-States</td>\n",
              "      <td>&lt;=50K</td>\n",
              "    </tr>\n",
              "    <tr>\n",
              "      <th>44</th>\n",
              "      <td>Private</td>\n",
              "      <td>Bachelors</td>\n",
              "      <td>13.0</td>\n",
              "      <td>Divorced</td>\n",
              "      <td>Adm-clerical</td>\n",
              "      <td>Own-child</td>\n",
              "      <td>Asian-Pac-Islander</td>\n",
              "      <td>Male</td>\n",
              "      <td>5455.0</td>\n",
              "      <td>0.0</td>\n",
              "      <td>40.0</td>\n",
              "      <td>United-States</td>\n",
              "      <td>&lt;=50K</td>\n",
              "    </tr>\n",
              "    <tr>\n",
              "      <th>35</th>\n",
              "      <td>Self-emp-inc</td>\n",
              "      <td>Bachelors</td>\n",
              "      <td>13.0</td>\n",
              "      <td>Married-civ-spouse</td>\n",
              "      <td>Exec-managerial</td>\n",
              "      <td>Husband</td>\n",
              "      <td>White</td>\n",
              "      <td>Male</td>\n",
              "      <td>0.0</td>\n",
              "      <td>0.0</td>\n",
              "      <td>60.0</td>\n",
              "      <td>United-States</td>\n",
              "      <td>&gt;50K</td>\n",
              "    </tr>\n",
              "  </tbody>\n",
              "</table>\n",
              "<p>45222 rows × 13 columns</p>\n",
              "</div>"
            ],
            "text/plain": [
              "             workclass education_level  ...  native-country income\n",
              "age                                     ...                       \n",
              "39           State-gov       Bachelors  ...   United-States  <=50K\n",
              "50    Self-emp-not-inc       Bachelors  ...   United-States  <=50K\n",
              "38             Private         HS-grad  ...   United-States  <=50K\n",
              "53             Private            11th  ...   United-States  <=50K\n",
              "28             Private       Bachelors  ...            Cuba  <=50K\n",
              "..                 ...             ...  ...             ...    ...\n",
              "33             Private       Bachelors  ...   United-States  <=50K\n",
              "39             Private       Bachelors  ...   United-States  <=50K\n",
              "38             Private       Bachelors  ...   United-States  <=50K\n",
              "44             Private       Bachelors  ...   United-States  <=50K\n",
              "35        Self-emp-inc       Bachelors  ...   United-States   >50K\n",
              "\n",
              "[45222 rows x 13 columns]"
            ]
          },
          "metadata": {
            "tags": []
          },
          "execution_count": 56
        }
      ]
    },
    {
      "cell_type": "markdown",
      "metadata": {
        "id": "e-1t1q1L3QBf",
        "colab_type": "text"
      },
      "source": [
        "# **Look at the Data**"
      ]
    },
    {
      "cell_type": "code",
      "metadata": {
        "id": "UnuPO9Go3WvN",
        "colab_type": "code",
        "outputId": "22b30453-6051-4baf-f476-216cf62a70dd",
        "colab": {
          "base_uri": "https://localhost:8080/",
          "height": 414
        }
      },
      "source": [
        "data.head()"
      ],
      "execution_count": 57,
      "outputs": [
        {
          "output_type": "execute_result",
          "data": {
            "text/html": [
              "<div>\n",
              "<style scoped>\n",
              "    .dataframe tbody tr th:only-of-type {\n",
              "        vertical-align: middle;\n",
              "    }\n",
              "\n",
              "    .dataframe tbody tr th {\n",
              "        vertical-align: top;\n",
              "    }\n",
              "\n",
              "    .dataframe thead th {\n",
              "        text-align: right;\n",
              "    }\n",
              "</style>\n",
              "<table border=\"1\" class=\"dataframe\">\n",
              "  <thead>\n",
              "    <tr style=\"text-align: right;\">\n",
              "      <th></th>\n",
              "      <th>workclass</th>\n",
              "      <th>education_level</th>\n",
              "      <th>education-num</th>\n",
              "      <th>marital-status</th>\n",
              "      <th>occupation</th>\n",
              "      <th>relationship</th>\n",
              "      <th>race</th>\n",
              "      <th>sex</th>\n",
              "      <th>capital-gain</th>\n",
              "      <th>capital-loss</th>\n",
              "      <th>hours-per-week</th>\n",
              "      <th>native-country</th>\n",
              "      <th>income</th>\n",
              "    </tr>\n",
              "    <tr>\n",
              "      <th>age</th>\n",
              "      <th></th>\n",
              "      <th></th>\n",
              "      <th></th>\n",
              "      <th></th>\n",
              "      <th></th>\n",
              "      <th></th>\n",
              "      <th></th>\n",
              "      <th></th>\n",
              "      <th></th>\n",
              "      <th></th>\n",
              "      <th></th>\n",
              "      <th></th>\n",
              "      <th></th>\n",
              "    </tr>\n",
              "  </thead>\n",
              "  <tbody>\n",
              "    <tr>\n",
              "      <th>39</th>\n",
              "      <td>State-gov</td>\n",
              "      <td>Bachelors</td>\n",
              "      <td>13.0</td>\n",
              "      <td>Never-married</td>\n",
              "      <td>Adm-clerical</td>\n",
              "      <td>Not-in-family</td>\n",
              "      <td>White</td>\n",
              "      <td>Male</td>\n",
              "      <td>2174.0</td>\n",
              "      <td>0.0</td>\n",
              "      <td>40.0</td>\n",
              "      <td>United-States</td>\n",
              "      <td>&lt;=50K</td>\n",
              "    </tr>\n",
              "    <tr>\n",
              "      <th>50</th>\n",
              "      <td>Self-emp-not-inc</td>\n",
              "      <td>Bachelors</td>\n",
              "      <td>13.0</td>\n",
              "      <td>Married-civ-spouse</td>\n",
              "      <td>Exec-managerial</td>\n",
              "      <td>Husband</td>\n",
              "      <td>White</td>\n",
              "      <td>Male</td>\n",
              "      <td>0.0</td>\n",
              "      <td>0.0</td>\n",
              "      <td>13.0</td>\n",
              "      <td>United-States</td>\n",
              "      <td>&lt;=50K</td>\n",
              "    </tr>\n",
              "    <tr>\n",
              "      <th>38</th>\n",
              "      <td>Private</td>\n",
              "      <td>HS-grad</td>\n",
              "      <td>9.0</td>\n",
              "      <td>Divorced</td>\n",
              "      <td>Handlers-cleaners</td>\n",
              "      <td>Not-in-family</td>\n",
              "      <td>White</td>\n",
              "      <td>Male</td>\n",
              "      <td>0.0</td>\n",
              "      <td>0.0</td>\n",
              "      <td>40.0</td>\n",
              "      <td>United-States</td>\n",
              "      <td>&lt;=50K</td>\n",
              "    </tr>\n",
              "    <tr>\n",
              "      <th>53</th>\n",
              "      <td>Private</td>\n",
              "      <td>11th</td>\n",
              "      <td>7.0</td>\n",
              "      <td>Married-civ-spouse</td>\n",
              "      <td>Handlers-cleaners</td>\n",
              "      <td>Husband</td>\n",
              "      <td>Black</td>\n",
              "      <td>Male</td>\n",
              "      <td>0.0</td>\n",
              "      <td>0.0</td>\n",
              "      <td>40.0</td>\n",
              "      <td>United-States</td>\n",
              "      <td>&lt;=50K</td>\n",
              "    </tr>\n",
              "    <tr>\n",
              "      <th>28</th>\n",
              "      <td>Private</td>\n",
              "      <td>Bachelors</td>\n",
              "      <td>13.0</td>\n",
              "      <td>Married-civ-spouse</td>\n",
              "      <td>Prof-specialty</td>\n",
              "      <td>Wife</td>\n",
              "      <td>Black</td>\n",
              "      <td>Female</td>\n",
              "      <td>0.0</td>\n",
              "      <td>0.0</td>\n",
              "      <td>40.0</td>\n",
              "      <td>Cuba</td>\n",
              "      <td>&lt;=50K</td>\n",
              "    </tr>\n",
              "  </tbody>\n",
              "</table>\n",
              "</div>"
            ],
            "text/plain": [
              "             workclass education_level  ...  native-country income\n",
              "age                                     ...                       \n",
              "39           State-gov       Bachelors  ...   United-States  <=50K\n",
              "50    Self-emp-not-inc       Bachelors  ...   United-States  <=50K\n",
              "38             Private         HS-grad  ...   United-States  <=50K\n",
              "53             Private            11th  ...   United-States  <=50K\n",
              "28             Private       Bachelors  ...            Cuba  <=50K\n",
              "\n",
              "[5 rows x 13 columns]"
            ]
          },
          "metadata": {
            "tags": []
          },
          "execution_count": 57
        }
      ]
    },
    {
      "cell_type": "code",
      "metadata": {
        "id": "ZuZdILJhjERd",
        "colab_type": "code",
        "outputId": "935cdbdf-ed10-4c79-d0a1-ed6b5fe30721",
        "colab": {
          "base_uri": "https://localhost:8080/",
          "height": 34
        }
      },
      "source": [
        "data.shape"
      ],
      "execution_count": 58,
      "outputs": [
        {
          "output_type": "execute_result",
          "data": {
            "text/plain": [
              "(45222, 13)"
            ]
          },
          "metadata": {
            "tags": []
          },
          "execution_count": 58
        }
      ]
    },
    {
      "cell_type": "code",
      "metadata": {
        "id": "wHmlUOUQ__Ds",
        "colab_type": "code",
        "outputId": "d1e02244-0cba-4315-ec4f-d456f92de813",
        "colab": {
          "base_uri": "https://localhost:8080/",
          "height": 87
        }
      },
      "source": [
        "data.columns"
      ],
      "execution_count": 59,
      "outputs": [
        {
          "output_type": "execute_result",
          "data": {
            "text/plain": [
              "Index(['workclass', 'education_level', 'education-num', 'marital-status',\n",
              "       'occupation', 'relationship', 'race', 'sex', 'capital-gain',\n",
              "       'capital-loss', 'hours-per-week', 'native-country', 'income'],\n",
              "      dtype='object')"
            ]
          },
          "metadata": {
            "tags": []
          },
          "execution_count": 59
        }
      ]
    },
    {
      "cell_type": "code",
      "metadata": {
        "id": "sSG-GMvw_-64",
        "colab_type": "code",
        "outputId": "6f3cd55c-2a52-4bad-ed33-8b04826a3e13",
        "colab": {
          "base_uri": "https://localhost:8080/",
          "height": 336
        }
      },
      "source": [
        "data.info()"
      ],
      "execution_count": 60,
      "outputs": [
        {
          "output_type": "stream",
          "text": [
            "<class 'pandas.core.frame.DataFrame'>\n",
            "Int64Index: 45222 entries, 39 to 35\n",
            "Data columns (total 13 columns):\n",
            "workclass          45222 non-null object\n",
            "education_level    45222 non-null object\n",
            "education-num      45222 non-null float64\n",
            "marital-status     45222 non-null object\n",
            "occupation         45222 non-null object\n",
            "relationship       45222 non-null object\n",
            "race               45222 non-null object\n",
            "sex                45222 non-null object\n",
            "capital-gain       45222 non-null float64\n",
            "capital-loss       45222 non-null float64\n",
            "hours-per-week     45222 non-null float64\n",
            "native-country     45222 non-null object\n",
            "income             45222 non-null object\n",
            "dtypes: float64(4), object(9)\n",
            "memory usage: 4.8+ MB\n"
          ],
          "name": "stdout"
        }
      ]
    },
    {
      "cell_type": "code",
      "metadata": {
        "id": "pe_5L_KW__Pc",
        "colab_type": "code",
        "outputId": "db924c77-1d2f-48c2-ddd6-ff9bc30e2742",
        "colab": {
          "base_uri": "https://localhost:8080/",
          "height": 287
        }
      },
      "source": [
        "data.describe()"
      ],
      "execution_count": 61,
      "outputs": [
        {
          "output_type": "execute_result",
          "data": {
            "text/html": [
              "<div>\n",
              "<style scoped>\n",
              "    .dataframe tbody tr th:only-of-type {\n",
              "        vertical-align: middle;\n",
              "    }\n",
              "\n",
              "    .dataframe tbody tr th {\n",
              "        vertical-align: top;\n",
              "    }\n",
              "\n",
              "    .dataframe thead th {\n",
              "        text-align: right;\n",
              "    }\n",
              "</style>\n",
              "<table border=\"1\" class=\"dataframe\">\n",
              "  <thead>\n",
              "    <tr style=\"text-align: right;\">\n",
              "      <th></th>\n",
              "      <th>education-num</th>\n",
              "      <th>capital-gain</th>\n",
              "      <th>capital-loss</th>\n",
              "      <th>hours-per-week</th>\n",
              "    </tr>\n",
              "  </thead>\n",
              "  <tbody>\n",
              "    <tr>\n",
              "      <th>count</th>\n",
              "      <td>45222.000000</td>\n",
              "      <td>45222.000000</td>\n",
              "      <td>45222.000000</td>\n",
              "      <td>45222.000000</td>\n",
              "    </tr>\n",
              "    <tr>\n",
              "      <th>mean</th>\n",
              "      <td>10.118460</td>\n",
              "      <td>1101.430344</td>\n",
              "      <td>88.595418</td>\n",
              "      <td>40.938017</td>\n",
              "    </tr>\n",
              "    <tr>\n",
              "      <th>std</th>\n",
              "      <td>2.552881</td>\n",
              "      <td>7506.430084</td>\n",
              "      <td>404.956092</td>\n",
              "      <td>12.007508</td>\n",
              "    </tr>\n",
              "    <tr>\n",
              "      <th>min</th>\n",
              "      <td>1.000000</td>\n",
              "      <td>0.000000</td>\n",
              "      <td>0.000000</td>\n",
              "      <td>1.000000</td>\n",
              "    </tr>\n",
              "    <tr>\n",
              "      <th>25%</th>\n",
              "      <td>9.000000</td>\n",
              "      <td>0.000000</td>\n",
              "      <td>0.000000</td>\n",
              "      <td>40.000000</td>\n",
              "    </tr>\n",
              "    <tr>\n",
              "      <th>50%</th>\n",
              "      <td>10.000000</td>\n",
              "      <td>0.000000</td>\n",
              "      <td>0.000000</td>\n",
              "      <td>40.000000</td>\n",
              "    </tr>\n",
              "    <tr>\n",
              "      <th>75%</th>\n",
              "      <td>13.000000</td>\n",
              "      <td>0.000000</td>\n",
              "      <td>0.000000</td>\n",
              "      <td>45.000000</td>\n",
              "    </tr>\n",
              "    <tr>\n",
              "      <th>max</th>\n",
              "      <td>16.000000</td>\n",
              "      <td>99999.000000</td>\n",
              "      <td>4356.000000</td>\n",
              "      <td>99.000000</td>\n",
              "    </tr>\n",
              "  </tbody>\n",
              "</table>\n",
              "</div>"
            ],
            "text/plain": [
              "       education-num  capital-gain  capital-loss  hours-per-week\n",
              "count   45222.000000  45222.000000  45222.000000    45222.000000\n",
              "mean       10.118460   1101.430344     88.595418       40.938017\n",
              "std         2.552881   7506.430084    404.956092       12.007508\n",
              "min         1.000000      0.000000      0.000000        1.000000\n",
              "25%         9.000000      0.000000      0.000000       40.000000\n",
              "50%        10.000000      0.000000      0.000000       40.000000\n",
              "75%        13.000000      0.000000      0.000000       45.000000\n",
              "max        16.000000  99999.000000   4356.000000       99.000000"
            ]
          },
          "metadata": {
            "tags": []
          },
          "execution_count": 61
        }
      ]
    },
    {
      "cell_type": "markdown",
      "metadata": {
        "id": "Np15p3AWOxnX",
        "colab_type": "text"
      },
      "source": [
        "# **Profiling**"
      ]
    },
    {
      "cell_type": "code",
      "metadata": {
        "id": "LCnb0j-z3UMJ",
        "colab_type": "code",
        "colab": {
          "base_uri": "https://localhost:8080/",
          "height": 267
        },
        "outputId": "bc2bc5d7-18ae-4bb9-c964-1732204220eb"
      },
      "source": [
        "!pip install pandas_profiling"
      ],
      "execution_count": 9,
      "outputs": [
        {
          "output_type": "stream",
          "text": [
            "Requirement already satisfied: pandas_profiling in /usr/local/lib/python3.6/dist-packages (1.4.1)\n",
            "Requirement already satisfied: pandas>=0.19 in /usr/local/lib/python3.6/dist-packages (from pandas_profiling) (0.25.3)\n",
            "Requirement already satisfied: six>=1.9 in /usr/local/lib/python3.6/dist-packages (from pandas_profiling) (1.12.0)\n",
            "Requirement already satisfied: jinja2>=2.8 in /usr/local/lib/python3.6/dist-packages (from pandas_profiling) (2.10.3)\n",
            "Requirement already satisfied: matplotlib>=1.4 in /usr/local/lib/python3.6/dist-packages (from pandas_profiling) (3.1.2)\n",
            "Requirement already satisfied: python-dateutil>=2.6.1 in /usr/local/lib/python3.6/dist-packages (from pandas>=0.19->pandas_profiling) (2.6.1)\n",
            "Requirement already satisfied: numpy>=1.13.3 in /usr/local/lib/python3.6/dist-packages (from pandas>=0.19->pandas_profiling) (1.17.4)\n",
            "Requirement already satisfied: pytz>=2017.2 in /usr/local/lib/python3.6/dist-packages (from pandas>=0.19->pandas_profiling) (2018.9)\n",
            "Requirement already satisfied: MarkupSafe>=0.23 in /usr/local/lib/python3.6/dist-packages (from jinja2>=2.8->pandas_profiling) (1.1.1)\n",
            "Requirement already satisfied: kiwisolver>=1.0.1 in /usr/local/lib/python3.6/dist-packages (from matplotlib>=1.4->pandas_profiling) (1.1.0)\n",
            "Requirement already satisfied: cycler>=0.10 in /usr/local/lib/python3.6/dist-packages (from matplotlib>=1.4->pandas_profiling) (0.10.0)\n",
            "Requirement already satisfied: pyparsing!=2.0.4,!=2.1.2,!=2.1.6,>=2.0.1 in /usr/local/lib/python3.6/dist-packages (from matplotlib>=1.4->pandas_profiling) (2.4.5)\n",
            "Requirement already satisfied: setuptools in /usr/local/lib/python3.6/dist-packages (from kiwisolver>=1.0.1->matplotlib>=1.4->pandas_profiling) (42.0.2)\n"
          ],
          "name": "stdout"
        }
      ]
    },
    {
      "cell_type": "code",
      "metadata": {
        "id": "lWA87FnZ2U5_",
        "colab_type": "code",
        "colab": {}
      },
      "source": [
        "import pandas_profiling as pp"
      ],
      "execution_count": 0,
      "outputs": []
    },
    {
      "cell_type": "code",
      "metadata": {
        "id": "PeUt3Mtm3mM9",
        "colab_type": "code",
        "colab": {
          "base_uri": "https://localhost:8080/",
          "height": 72
        },
        "outputId": "c1727ea6-85a1-4421-ae58-c58733456458"
      },
      "source": [
        "report=pp.ProfileReport(data)"
      ],
      "execution_count": 11,
      "outputs": [
        {
          "output_type": "stream",
          "text": [
            "/usr/local/lib/python3.6/dist-packages/pandas_profiling/describe.py:392: FutureWarning: The join_axes-keyword is deprecated. Use .reindex or .reindex_like on the result to achieve the same functionality.\n",
            "  variable_stats = pd.concat(ldesc, join_axes=pd.Index([names]), axis=1)\n"
          ],
          "name": "stderr"
        }
      ]
    },
    {
      "cell_type": "code",
      "metadata": {
        "id": "mR5QIRcM3mc1",
        "colab_type": "code",
        "colab": {}
      },
      "source": [
        "report.to_file('data_assessment.html')"
      ],
      "execution_count": 0,
      "outputs": []
    },
    {
      "cell_type": "markdown",
      "metadata": {
        "id": "dGj4n7SMKNIR",
        "colab_type": "text"
      },
      "source": [
        "\n",
        "# **Cleaning of Data**\n"
      ]
    },
    {
      "cell_type": "code",
      "metadata": {
        "id": "M0ECY9xDPBOc",
        "colab_type": "code",
        "colab": {}
      },
      "source": [
        "# change to cat\n",
        "# data['workclass']=data['workclass'].astype('category')\n",
        "# data['education_level']=data['education_level'].astype('category')\n",
        "# data['marital-status']=data['marital-status'].astype('category')\n",
        "# data['occupation']=data['occupation'].astype('category')\n",
        "# data['relationship']=data['relationship'].astype('category')\n",
        "# data['race']=data['race'].astype('category')\n",
        "# data['sex']=data['sex'].astype('category')\n",
        "# data['native-country']=data['native-country'].astype('category')\n",
        "# data['income']=data['income'].astype('category')"
      ],
      "execution_count": 0,
      "outputs": []
    },
    {
      "cell_type": "markdown",
      "metadata": {
        "id": "ovRh0RuUSblY",
        "colab_type": "text"
      },
      "source": [
        "## Label Encoder"
      ]
    },
    {
      "cell_type": "code",
      "metadata": {
        "id": "IQwBg7iKTEJV",
        "colab_type": "code",
        "colab": {}
      },
      "source": [
        "# Categorical boolean mask\n",
        "categorical_feature_mask = data.dtypes==object\n",
        "# filter categorical columns using mask and turn it into a list\n",
        "categorical_cols = data.columns[categorical_feature_mask].tolist()"
      ],
      "execution_count": 0,
      "outputs": []
    },
    {
      "cell_type": "code",
      "metadata": {
        "id": "wjszqsvmTRcR",
        "colab_type": "code",
        "colab": {}
      },
      "source": [
        "le = LabelEncoder()"
      ],
      "execution_count": 0,
      "outputs": []
    },
    {
      "cell_type": "code",
      "metadata": {
        "id": "vBs_GbM4TRnn",
        "colab_type": "code",
        "outputId": "6bf88c55-ddaf-4d80-ec0b-3b00feba30cc",
        "colab": {
          "base_uri": "https://localhost:8080/",
          "height": 377
        }
      },
      "source": [
        "# apply le on categorical feature columns\n",
        "data[categorical_cols] = data[categorical_cols].apply(lambda col: le.fit_transform(col))\n",
        "data[categorical_cols].head(10)"
      ],
      "execution_count": 64,
      "outputs": [
        {
          "output_type": "execute_result",
          "data": {
            "text/html": [
              "<div>\n",
              "<style scoped>\n",
              "    .dataframe tbody tr th:only-of-type {\n",
              "        vertical-align: middle;\n",
              "    }\n",
              "\n",
              "    .dataframe tbody tr th {\n",
              "        vertical-align: top;\n",
              "    }\n",
              "\n",
              "    .dataframe thead th {\n",
              "        text-align: right;\n",
              "    }\n",
              "</style>\n",
              "<table border=\"1\" class=\"dataframe\">\n",
              "  <thead>\n",
              "    <tr style=\"text-align: right;\">\n",
              "      <th></th>\n",
              "      <th>workclass</th>\n",
              "      <th>education_level</th>\n",
              "      <th>marital-status</th>\n",
              "      <th>occupation</th>\n",
              "      <th>relationship</th>\n",
              "      <th>race</th>\n",
              "      <th>sex</th>\n",
              "      <th>native-country</th>\n",
              "      <th>income</th>\n",
              "    </tr>\n",
              "    <tr>\n",
              "      <th>age</th>\n",
              "      <th></th>\n",
              "      <th></th>\n",
              "      <th></th>\n",
              "      <th></th>\n",
              "      <th></th>\n",
              "      <th></th>\n",
              "      <th></th>\n",
              "      <th></th>\n",
              "      <th></th>\n",
              "    </tr>\n",
              "  </thead>\n",
              "  <tbody>\n",
              "    <tr>\n",
              "      <th>39</th>\n",
              "      <td>5</td>\n",
              "      <td>9</td>\n",
              "      <td>4</td>\n",
              "      <td>0</td>\n",
              "      <td>1</td>\n",
              "      <td>4</td>\n",
              "      <td>1</td>\n",
              "      <td>38</td>\n",
              "      <td>0</td>\n",
              "    </tr>\n",
              "    <tr>\n",
              "      <th>50</th>\n",
              "      <td>4</td>\n",
              "      <td>9</td>\n",
              "      <td>2</td>\n",
              "      <td>3</td>\n",
              "      <td>0</td>\n",
              "      <td>4</td>\n",
              "      <td>1</td>\n",
              "      <td>38</td>\n",
              "      <td>0</td>\n",
              "    </tr>\n",
              "    <tr>\n",
              "      <th>38</th>\n",
              "      <td>2</td>\n",
              "      <td>11</td>\n",
              "      <td>0</td>\n",
              "      <td>5</td>\n",
              "      <td>1</td>\n",
              "      <td>4</td>\n",
              "      <td>1</td>\n",
              "      <td>38</td>\n",
              "      <td>0</td>\n",
              "    </tr>\n",
              "    <tr>\n",
              "      <th>53</th>\n",
              "      <td>2</td>\n",
              "      <td>1</td>\n",
              "      <td>2</td>\n",
              "      <td>5</td>\n",
              "      <td>0</td>\n",
              "      <td>2</td>\n",
              "      <td>1</td>\n",
              "      <td>38</td>\n",
              "      <td>0</td>\n",
              "    </tr>\n",
              "    <tr>\n",
              "      <th>28</th>\n",
              "      <td>2</td>\n",
              "      <td>9</td>\n",
              "      <td>2</td>\n",
              "      <td>9</td>\n",
              "      <td>5</td>\n",
              "      <td>2</td>\n",
              "      <td>0</td>\n",
              "      <td>4</td>\n",
              "      <td>0</td>\n",
              "    </tr>\n",
              "    <tr>\n",
              "      <th>37</th>\n",
              "      <td>2</td>\n",
              "      <td>12</td>\n",
              "      <td>2</td>\n",
              "      <td>3</td>\n",
              "      <td>5</td>\n",
              "      <td>4</td>\n",
              "      <td>0</td>\n",
              "      <td>38</td>\n",
              "      <td>0</td>\n",
              "    </tr>\n",
              "    <tr>\n",
              "      <th>49</th>\n",
              "      <td>2</td>\n",
              "      <td>6</td>\n",
              "      <td>3</td>\n",
              "      <td>7</td>\n",
              "      <td>1</td>\n",
              "      <td>2</td>\n",
              "      <td>0</td>\n",
              "      <td>22</td>\n",
              "      <td>0</td>\n",
              "    </tr>\n",
              "    <tr>\n",
              "      <th>52</th>\n",
              "      <td>4</td>\n",
              "      <td>11</td>\n",
              "      <td>2</td>\n",
              "      <td>3</td>\n",
              "      <td>0</td>\n",
              "      <td>4</td>\n",
              "      <td>1</td>\n",
              "      <td>38</td>\n",
              "      <td>1</td>\n",
              "    </tr>\n",
              "    <tr>\n",
              "      <th>31</th>\n",
              "      <td>2</td>\n",
              "      <td>12</td>\n",
              "      <td>4</td>\n",
              "      <td>9</td>\n",
              "      <td>1</td>\n",
              "      <td>4</td>\n",
              "      <td>0</td>\n",
              "      <td>38</td>\n",
              "      <td>1</td>\n",
              "    </tr>\n",
              "    <tr>\n",
              "      <th>42</th>\n",
              "      <td>2</td>\n",
              "      <td>9</td>\n",
              "      <td>2</td>\n",
              "      <td>3</td>\n",
              "      <td>0</td>\n",
              "      <td>4</td>\n",
              "      <td>1</td>\n",
              "      <td>38</td>\n",
              "      <td>1</td>\n",
              "    </tr>\n",
              "  </tbody>\n",
              "</table>\n",
              "</div>"
            ],
            "text/plain": [
              "     workclass  education_level  marital-status  ...  sex  native-country  income\n",
              "age                                              ...                             \n",
              "39           5                9               4  ...    1              38       0\n",
              "50           4                9               2  ...    1              38       0\n",
              "38           2               11               0  ...    1              38       0\n",
              "53           2                1               2  ...    1              38       0\n",
              "28           2                9               2  ...    0               4       0\n",
              "37           2               12               2  ...    0              38       0\n",
              "49           2                6               3  ...    0              22       0\n",
              "52           4               11               2  ...    1              38       1\n",
              "31           2               12               4  ...    0              38       1\n",
              "42           2                9               2  ...    1              38       1\n",
              "\n",
              "[10 rows x 9 columns]"
            ]
          },
          "metadata": {
            "tags": []
          },
          "execution_count": 64
        }
      ]
    },
    {
      "cell_type": "code",
      "metadata": {
        "id": "e_WO6F8UUozQ",
        "colab_type": "code",
        "outputId": "adfdfbe6-73ae-42b3-f1ff-a03608b3a988",
        "colab": {
          "base_uri": "https://localhost:8080/",
          "height": 34
        }
      },
      "source": [
        "data[categorical_cols].shape"
      ],
      "execution_count": 65,
      "outputs": [
        {
          "output_type": "execute_result",
          "data": {
            "text/plain": [
              "(45222, 9)"
            ]
          },
          "metadata": {
            "tags": []
          },
          "execution_count": 65
        }
      ]
    },
    {
      "cell_type": "markdown",
      "metadata": {
        "id": "6iu2GhdiKlsk",
        "colab_type": "text"
      },
      "source": [
        "xxxxxxxFeature Scaling"
      ]
    },
    {
      "cell_type": "code",
      "metadata": {
        "id": "YzCNYvFKUv4M",
        "colab_type": "code",
        "colab": {}
      },
      "source": [
        "f_column=['education-num','capital-gain','capital-loss','hours-per-week']\n",
        "n_data=data[f_column]"
      ],
      "execution_count": 0,
      "outputs": []
    },
    {
      "cell_type": "code",
      "metadata": {
        "id": "wBbceI1EWQgD",
        "colab_type": "code",
        "outputId": "f1e78eb6-c477-49e6-9fa2-474d38b8e716",
        "colab": {
          "base_uri": "https://localhost:8080/",
          "height": 34
        }
      },
      "source": [
        "data[f_column].shape"
      ],
      "execution_count": 67,
      "outputs": [
        {
          "output_type": "execute_result",
          "data": {
            "text/plain": [
              "(45222, 4)"
            ]
          },
          "metadata": {
            "tags": []
          },
          "execution_count": 67
        }
      ]
    },
    {
      "cell_type": "code",
      "metadata": {
        "id": "XKzY2BSVKTUo",
        "colab_type": "code",
        "colab": {}
      },
      "source": [
        "# #Instantiate Standard Scaler\n",
        "# scaler=StandardScaler()\n",
        "# scaler.fit(data[f_column])\n",
        "\n",
        "# #Transform Original Data to Zero mean and unit variance\n",
        "# transformed_data=scaler.transform(data[f_column])\n",
        "\n",
        "# #Convert to original data frame schema\n",
        "# data[f_column]=pd.DataFrame(transformed_data,columns=data[f_column].columns)"
      ],
      "execution_count": 0,
      "outputs": []
    },
    {
      "cell_type": "code",
      "metadata": {
        "id": "nCeCbSdDM0AK",
        "colab_type": "code",
        "colab": {
          "base_uri": "https://localhost:8080/",
          "height": 34
        },
        "outputId": "01f3e2f4-9031-4a87-acea-4087523dedab"
      },
      "source": [
        "data[f_column].shape"
      ],
      "execution_count": 68,
      "outputs": [
        {
          "output_type": "execute_result",
          "data": {
            "text/plain": [
              "(45222, 4)"
            ]
          },
          "metadata": {
            "tags": []
          },
          "execution_count": 68
        }
      ]
    },
    {
      "cell_type": "code",
      "metadata": {
        "id": "s7-D9QFeOExo",
        "colab_type": "code",
        "colab": {
          "base_uri": "https://localhost:8080/",
          "height": 227
        },
        "outputId": "df05e195-11e9-4810-df5f-e6474dc49dad"
      },
      "source": [
        "data[f_column].head()\n"
      ],
      "execution_count": 69,
      "outputs": [
        {
          "output_type": "execute_result",
          "data": {
            "text/html": [
              "<div>\n",
              "<style scoped>\n",
              "    .dataframe tbody tr th:only-of-type {\n",
              "        vertical-align: middle;\n",
              "    }\n",
              "\n",
              "    .dataframe tbody tr th {\n",
              "        vertical-align: top;\n",
              "    }\n",
              "\n",
              "    .dataframe thead th {\n",
              "        text-align: right;\n",
              "    }\n",
              "</style>\n",
              "<table border=\"1\" class=\"dataframe\">\n",
              "  <thead>\n",
              "    <tr style=\"text-align: right;\">\n",
              "      <th></th>\n",
              "      <th>education-num</th>\n",
              "      <th>capital-gain</th>\n",
              "      <th>capital-loss</th>\n",
              "      <th>hours-per-week</th>\n",
              "    </tr>\n",
              "    <tr>\n",
              "      <th>age</th>\n",
              "      <th></th>\n",
              "      <th></th>\n",
              "      <th></th>\n",
              "      <th></th>\n",
              "    </tr>\n",
              "  </thead>\n",
              "  <tbody>\n",
              "    <tr>\n",
              "      <th>39</th>\n",
              "      <td>13.0</td>\n",
              "      <td>2174.0</td>\n",
              "      <td>0.0</td>\n",
              "      <td>40.0</td>\n",
              "    </tr>\n",
              "    <tr>\n",
              "      <th>50</th>\n",
              "      <td>13.0</td>\n",
              "      <td>0.0</td>\n",
              "      <td>0.0</td>\n",
              "      <td>13.0</td>\n",
              "    </tr>\n",
              "    <tr>\n",
              "      <th>38</th>\n",
              "      <td>9.0</td>\n",
              "      <td>0.0</td>\n",
              "      <td>0.0</td>\n",
              "      <td>40.0</td>\n",
              "    </tr>\n",
              "    <tr>\n",
              "      <th>53</th>\n",
              "      <td>7.0</td>\n",
              "      <td>0.0</td>\n",
              "      <td>0.0</td>\n",
              "      <td>40.0</td>\n",
              "    </tr>\n",
              "    <tr>\n",
              "      <th>28</th>\n",
              "      <td>13.0</td>\n",
              "      <td>0.0</td>\n",
              "      <td>0.0</td>\n",
              "      <td>40.0</td>\n",
              "    </tr>\n",
              "  </tbody>\n",
              "</table>\n",
              "</div>"
            ],
            "text/plain": [
              "     education-num  capital-gain  capital-loss  hours-per-week\n",
              "age                                                           \n",
              "39            13.0        2174.0           0.0            40.0\n",
              "50            13.0           0.0           0.0            13.0\n",
              "38             9.0           0.0           0.0            40.0\n",
              "53             7.0           0.0           0.0            40.0\n",
              "28            13.0           0.0           0.0            40.0"
            ]
          },
          "metadata": {
            "tags": []
          },
          "execution_count": 69
        }
      ]
    },
    {
      "cell_type": "markdown",
      "metadata": {
        "id": "sF1FjnaSK7OD",
        "colab_type": "text"
      },
      "source": [
        "Concatenate numerical and categorical columns"
      ]
    },
    {
      "cell_type": "code",
      "metadata": {
        "id": "SJo_Lmh3VZfS",
        "colab_type": "code",
        "colab": {}
      },
      "source": [
        "new_data=pd.concat([data[f_column],data[categorical_cols]],axis=1)"
      ],
      "execution_count": 0,
      "outputs": []
    },
    {
      "cell_type": "code",
      "metadata": {
        "id": "oyhNzKPsWnGy",
        "colab_type": "code",
        "outputId": "ad4c1898-ded6-4425-df8b-37a2cb3b77bb",
        "colab": {
          "base_uri": "https://localhost:8080/",
          "height": 261
        }
      },
      "source": [
        "new_data.head()"
      ],
      "execution_count": 71,
      "outputs": [
        {
          "output_type": "execute_result",
          "data": {
            "text/html": [
              "<div>\n",
              "<style scoped>\n",
              "    .dataframe tbody tr th:only-of-type {\n",
              "        vertical-align: middle;\n",
              "    }\n",
              "\n",
              "    .dataframe tbody tr th {\n",
              "        vertical-align: top;\n",
              "    }\n",
              "\n",
              "    .dataframe thead th {\n",
              "        text-align: right;\n",
              "    }\n",
              "</style>\n",
              "<table border=\"1\" class=\"dataframe\">\n",
              "  <thead>\n",
              "    <tr style=\"text-align: right;\">\n",
              "      <th></th>\n",
              "      <th>education-num</th>\n",
              "      <th>capital-gain</th>\n",
              "      <th>capital-loss</th>\n",
              "      <th>hours-per-week</th>\n",
              "      <th>workclass</th>\n",
              "      <th>education_level</th>\n",
              "      <th>marital-status</th>\n",
              "      <th>occupation</th>\n",
              "      <th>relationship</th>\n",
              "      <th>race</th>\n",
              "      <th>sex</th>\n",
              "      <th>native-country</th>\n",
              "      <th>income</th>\n",
              "    </tr>\n",
              "    <tr>\n",
              "      <th>age</th>\n",
              "      <th></th>\n",
              "      <th></th>\n",
              "      <th></th>\n",
              "      <th></th>\n",
              "      <th></th>\n",
              "      <th></th>\n",
              "      <th></th>\n",
              "      <th></th>\n",
              "      <th></th>\n",
              "      <th></th>\n",
              "      <th></th>\n",
              "      <th></th>\n",
              "      <th></th>\n",
              "    </tr>\n",
              "  </thead>\n",
              "  <tbody>\n",
              "    <tr>\n",
              "      <th>39</th>\n",
              "      <td>13.0</td>\n",
              "      <td>2174.0</td>\n",
              "      <td>0.0</td>\n",
              "      <td>40.0</td>\n",
              "      <td>5</td>\n",
              "      <td>9</td>\n",
              "      <td>4</td>\n",
              "      <td>0</td>\n",
              "      <td>1</td>\n",
              "      <td>4</td>\n",
              "      <td>1</td>\n",
              "      <td>38</td>\n",
              "      <td>0</td>\n",
              "    </tr>\n",
              "    <tr>\n",
              "      <th>50</th>\n",
              "      <td>13.0</td>\n",
              "      <td>0.0</td>\n",
              "      <td>0.0</td>\n",
              "      <td>13.0</td>\n",
              "      <td>4</td>\n",
              "      <td>9</td>\n",
              "      <td>2</td>\n",
              "      <td>3</td>\n",
              "      <td>0</td>\n",
              "      <td>4</td>\n",
              "      <td>1</td>\n",
              "      <td>38</td>\n",
              "      <td>0</td>\n",
              "    </tr>\n",
              "    <tr>\n",
              "      <th>38</th>\n",
              "      <td>9.0</td>\n",
              "      <td>0.0</td>\n",
              "      <td>0.0</td>\n",
              "      <td>40.0</td>\n",
              "      <td>2</td>\n",
              "      <td>11</td>\n",
              "      <td>0</td>\n",
              "      <td>5</td>\n",
              "      <td>1</td>\n",
              "      <td>4</td>\n",
              "      <td>1</td>\n",
              "      <td>38</td>\n",
              "      <td>0</td>\n",
              "    </tr>\n",
              "    <tr>\n",
              "      <th>53</th>\n",
              "      <td>7.0</td>\n",
              "      <td>0.0</td>\n",
              "      <td>0.0</td>\n",
              "      <td>40.0</td>\n",
              "      <td>2</td>\n",
              "      <td>1</td>\n",
              "      <td>2</td>\n",
              "      <td>5</td>\n",
              "      <td>0</td>\n",
              "      <td>2</td>\n",
              "      <td>1</td>\n",
              "      <td>38</td>\n",
              "      <td>0</td>\n",
              "    </tr>\n",
              "    <tr>\n",
              "      <th>28</th>\n",
              "      <td>13.0</td>\n",
              "      <td>0.0</td>\n",
              "      <td>0.0</td>\n",
              "      <td>40.0</td>\n",
              "      <td>2</td>\n",
              "      <td>9</td>\n",
              "      <td>2</td>\n",
              "      <td>9</td>\n",
              "      <td>5</td>\n",
              "      <td>2</td>\n",
              "      <td>0</td>\n",
              "      <td>4</td>\n",
              "      <td>0</td>\n",
              "    </tr>\n",
              "  </tbody>\n",
              "</table>\n",
              "</div>"
            ],
            "text/plain": [
              "     education-num  capital-gain  capital-loss  ...  sex  native-country  income\n",
              "age                                             ...                             \n",
              "39            13.0        2174.0           0.0  ...    1              38       0\n",
              "50            13.0           0.0           0.0  ...    1              38       0\n",
              "38             9.0           0.0           0.0  ...    1              38       0\n",
              "53             7.0           0.0           0.0  ...    1              38       0\n",
              "28            13.0           0.0           0.0  ...    0               4       0\n",
              "\n",
              "[5 rows x 13 columns]"
            ]
          },
          "metadata": {
            "tags": []
          },
          "execution_count": 71
        }
      ]
    },
    {
      "cell_type": "code",
      "metadata": {
        "id": "5q5HiSq7W10T",
        "colab_type": "code",
        "outputId": "9e73d183-4b24-4731-de37-4e5bdcad031a",
        "colab": {
          "base_uri": "https://localhost:8080/",
          "height": 34
        }
      },
      "source": [
        "new_data.shape"
      ],
      "execution_count": 72,
      "outputs": [
        {
          "output_type": "execute_result",
          "data": {
            "text/plain": [
              "(45222, 13)"
            ]
          },
          "metadata": {
            "tags": []
          },
          "execution_count": 72
        }
      ]
    },
    {
      "cell_type": "markdown",
      "metadata": {
        "id": "eXlPpMqAgOo0",
        "colab_type": "text"
      },
      "source": [
        "# **Look at the Cleaned Data**"
      ]
    },
    {
      "cell_type": "code",
      "metadata": {
        "id": "0eQcdWJWAawV",
        "colab_type": "code",
        "colab": {}
      },
      "source": [
        "#new_data.head()"
      ],
      "execution_count": 0,
      "outputs": []
    },
    {
      "cell_type": "code",
      "metadata": {
        "id": "Ai4woUu0jI3X",
        "colab_type": "code",
        "colab": {}
      },
      "source": [
        "#new_data.shape"
      ],
      "execution_count": 0,
      "outputs": []
    },
    {
      "cell_type": "code",
      "metadata": {
        "id": "RPB0Mk1jAa4c",
        "colab_type": "code",
        "colab": {}
      },
      "source": [
        "#new_data.columns"
      ],
      "execution_count": 0,
      "outputs": []
    },
    {
      "cell_type": "code",
      "metadata": {
        "id": "4s80F_tlAbM-",
        "colab_type": "code",
        "colab": {}
      },
      "source": [
        "#new_data.info()"
      ],
      "execution_count": 0,
      "outputs": []
    },
    {
      "cell_type": "markdown",
      "metadata": {
        "id": "EbmryeJ1KdRt",
        "colab_type": "text"
      },
      "source": [
        "# **Correlation of features to each other**"
      ]
    },
    {
      "cell_type": "code",
      "metadata": {
        "id": "8v-tNTyjRaFV",
        "colab_type": "code",
        "outputId": "957ba49d-2fd4-492a-b510-b1ec5c2b00bd",
        "colab": {
          "base_uri": "https://localhost:8080/",
          "height": 474
        }
      },
      "source": [
        "correlation_coefficients = new_data.corr()\n",
        "correlation_coefficients"
      ],
      "execution_count": 73,
      "outputs": [
        {
          "output_type": "execute_result",
          "data": {
            "text/html": [
              "<div>\n",
              "<style scoped>\n",
              "    .dataframe tbody tr th:only-of-type {\n",
              "        vertical-align: middle;\n",
              "    }\n",
              "\n",
              "    .dataframe tbody tr th {\n",
              "        vertical-align: top;\n",
              "    }\n",
              "\n",
              "    .dataframe thead th {\n",
              "        text-align: right;\n",
              "    }\n",
              "</style>\n",
              "<table border=\"1\" class=\"dataframe\">\n",
              "  <thead>\n",
              "    <tr style=\"text-align: right;\">\n",
              "      <th></th>\n",
              "      <th>education-num</th>\n",
              "      <th>capital-gain</th>\n",
              "      <th>capital-loss</th>\n",
              "      <th>hours-per-week</th>\n",
              "      <th>workclass</th>\n",
              "      <th>education_level</th>\n",
              "      <th>marital-status</th>\n",
              "      <th>occupation</th>\n",
              "      <th>relationship</th>\n",
              "      <th>race</th>\n",
              "      <th>sex</th>\n",
              "      <th>native-country</th>\n",
              "      <th>income</th>\n",
              "    </tr>\n",
              "  </thead>\n",
              "  <tbody>\n",
              "    <tr>\n",
              "      <th>education-num</th>\n",
              "      <td>1.000000</td>\n",
              "      <td>0.126907</td>\n",
              "      <td>0.081711</td>\n",
              "      <td>0.146206</td>\n",
              "      <td>0.040779</td>\n",
              "      <td>0.347444</td>\n",
              "      <td>-0.064986</td>\n",
              "      <td>0.089686</td>\n",
              "      <td>-0.088431</td>\n",
              "      <td>0.031655</td>\n",
              "      <td>0.003417</td>\n",
              "      <td>0.092994</td>\n",
              "      <td>0.332800</td>\n",
              "    </tr>\n",
              "    <tr>\n",
              "      <th>capital-gain</th>\n",
              "      <td>0.126907</td>\n",
              "      <td>1.000000</td>\n",
              "      <td>-0.032102</td>\n",
              "      <td>0.083880</td>\n",
              "      <td>0.034543</td>\n",
              "      <td>0.029889</td>\n",
              "      <td>-0.042399</td>\n",
              "      <td>0.019435</td>\n",
              "      <td>-0.056818</td>\n",
              "      <td>0.014078</td>\n",
              "      <td>0.047444</td>\n",
              "      <td>0.007643</td>\n",
              "      <td>0.221034</td>\n",
              "    </tr>\n",
              "    <tr>\n",
              "      <th>capital-loss</th>\n",
              "      <td>0.081711</td>\n",
              "      <td>-0.032102</td>\n",
              "      <td>1.000000</td>\n",
              "      <td>0.054195</td>\n",
              "      <td>0.008233</td>\n",
              "      <td>0.016877</td>\n",
              "      <td>-0.034820</td>\n",
              "      <td>0.015267</td>\n",
              "      <td>-0.058425</td>\n",
              "      <td>0.020955</td>\n",
              "      <td>0.046457</td>\n",
              "      <td>0.005955</td>\n",
              "      <td>0.148687</td>\n",
              "    </tr>\n",
              "    <tr>\n",
              "      <th>hours-per-week</th>\n",
              "      <td>0.146206</td>\n",
              "      <td>0.083880</td>\n",
              "      <td>0.054195</td>\n",
              "      <td>1.000000</td>\n",
              "      <td>0.051366</td>\n",
              "      <td>0.060887</td>\n",
              "      <td>-0.183178</td>\n",
              "      <td>0.016160</td>\n",
              "      <td>-0.259194</td>\n",
              "      <td>0.044738</td>\n",
              "      <td>0.231425</td>\n",
              "      <td>0.007554</td>\n",
              "      <td>0.227199</td>\n",
              "    </tr>\n",
              "    <tr>\n",
              "      <th>workclass</th>\n",
              "      <td>0.040779</td>\n",
              "      <td>0.034543</td>\n",
              "      <td>0.008233</td>\n",
              "      <td>0.051366</td>\n",
              "      <td>1.000000</td>\n",
              "      <td>0.017846</td>\n",
              "      <td>-0.033221</td>\n",
              "      <td>0.017508</td>\n",
              "      <td>-0.065049</td>\n",
              "      <td>0.049765</td>\n",
              "      <td>0.069638</td>\n",
              "      <td>0.003889</td>\n",
              "      <td>0.015659</td>\n",
              "    </tr>\n",
              "    <tr>\n",
              "      <th>education_level</th>\n",
              "      <td>0.347444</td>\n",
              "      <td>0.029889</td>\n",
              "      <td>0.016877</td>\n",
              "      <td>0.060887</td>\n",
              "      <td>0.017846</td>\n",
              "      <td>1.000000</td>\n",
              "      <td>-0.041520</td>\n",
              "      <td>-0.033499</td>\n",
              "      <td>-0.013179</td>\n",
              "      <td>0.011457</td>\n",
              "      <td>-0.027569</td>\n",
              "      <td>0.077893</td>\n",
              "      <td>0.081196</td>\n",
              "    </tr>\n",
              "    <tr>\n",
              "      <th>marital-status</th>\n",
              "      <td>-0.064986</td>\n",
              "      <td>-0.042399</td>\n",
              "      <td>-0.034820</td>\n",
              "      <td>-0.183178</td>\n",
              "      <td>-0.033221</td>\n",
              "      <td>-0.041520</td>\n",
              "      <td>1.000000</td>\n",
              "      <td>0.016399</td>\n",
              "      <td>0.180436</td>\n",
              "      <td>-0.070302</td>\n",
              "      <td>-0.120008</td>\n",
              "      <td>-0.022721</td>\n",
              "      <td>-0.192711</td>\n",
              "    </tr>\n",
              "    <tr>\n",
              "      <th>occupation</th>\n",
              "      <td>0.089686</td>\n",
              "      <td>0.019435</td>\n",
              "      <td>0.015267</td>\n",
              "      <td>0.016160</td>\n",
              "      <td>0.017508</td>\n",
              "      <td>-0.033499</td>\n",
              "      <td>0.016399</td>\n",
              "      <td>1.000000</td>\n",
              "      <td>-0.051644</td>\n",
              "      <td>-0.000026</td>\n",
              "      <td>0.056625</td>\n",
              "      <td>-0.002848</td>\n",
              "      <td>0.049787</td>\n",
              "    </tr>\n",
              "    <tr>\n",
              "      <th>relationship</th>\n",
              "      <td>-0.088431</td>\n",
              "      <td>-0.056818</td>\n",
              "      <td>-0.058425</td>\n",
              "      <td>-0.259194</td>\n",
              "      <td>-0.065049</td>\n",
              "      <td>-0.013179</td>\n",
              "      <td>0.180436</td>\n",
              "      <td>-0.051644</td>\n",
              "      <td>1.000000</td>\n",
              "      <td>-0.118584</td>\n",
              "      <td>-0.582974</td>\n",
              "      <td>-0.007144</td>\n",
              "      <td>-0.253402</td>\n",
              "    </tr>\n",
              "    <tr>\n",
              "      <th>race</th>\n",
              "      <td>0.031655</td>\n",
              "      <td>0.014078</td>\n",
              "      <td>0.020955</td>\n",
              "      <td>0.044738</td>\n",
              "      <td>0.049765</td>\n",
              "      <td>0.011457</td>\n",
              "      <td>-0.070302</td>\n",
              "      <td>-0.000026</td>\n",
              "      <td>-0.118584</td>\n",
              "      <td>1.000000</td>\n",
              "      <td>0.088935</td>\n",
              "      <td>0.124342</td>\n",
              "      <td>0.070844</td>\n",
              "    </tr>\n",
              "    <tr>\n",
              "      <th>sex</th>\n",
              "      <td>0.003417</td>\n",
              "      <td>0.047444</td>\n",
              "      <td>0.046457</td>\n",
              "      <td>0.231425</td>\n",
              "      <td>0.069638</td>\n",
              "      <td>-0.027569</td>\n",
              "      <td>-0.120008</td>\n",
              "      <td>0.056625</td>\n",
              "      <td>-0.582974</td>\n",
              "      <td>0.088935</td>\n",
              "      <td>1.000000</td>\n",
              "      <td>-0.004170</td>\n",
              "      <td>0.215760</td>\n",
              "    </tr>\n",
              "    <tr>\n",
              "      <th>native-country</th>\n",
              "      <td>0.092994</td>\n",
              "      <td>0.007643</td>\n",
              "      <td>0.005955</td>\n",
              "      <td>0.007554</td>\n",
              "      <td>0.003889</td>\n",
              "      <td>0.077893</td>\n",
              "      <td>-0.022721</td>\n",
              "      <td>-0.002848</td>\n",
              "      <td>-0.007144</td>\n",
              "      <td>0.124342</td>\n",
              "      <td>-0.004170</td>\n",
              "      <td>1.000000</td>\n",
              "      <td>0.020103</td>\n",
              "    </tr>\n",
              "    <tr>\n",
              "      <th>income</th>\n",
              "      <td>0.332800</td>\n",
              "      <td>0.221034</td>\n",
              "      <td>0.148687</td>\n",
              "      <td>0.227199</td>\n",
              "      <td>0.015659</td>\n",
              "      <td>0.081196</td>\n",
              "      <td>-0.192711</td>\n",
              "      <td>0.049787</td>\n",
              "      <td>-0.253402</td>\n",
              "      <td>0.070844</td>\n",
              "      <td>0.215760</td>\n",
              "      <td>0.020103</td>\n",
              "      <td>1.000000</td>\n",
              "    </tr>\n",
              "  </tbody>\n",
              "</table>\n",
              "</div>"
            ],
            "text/plain": [
              "                 education-num  capital-gain  ...  native-country    income\n",
              "education-num         1.000000      0.126907  ...        0.092994  0.332800\n",
              "capital-gain          0.126907      1.000000  ...        0.007643  0.221034\n",
              "capital-loss          0.081711     -0.032102  ...        0.005955  0.148687\n",
              "hours-per-week        0.146206      0.083880  ...        0.007554  0.227199\n",
              "workclass             0.040779      0.034543  ...        0.003889  0.015659\n",
              "education_level       0.347444      0.029889  ...        0.077893  0.081196\n",
              "marital-status       -0.064986     -0.042399  ...       -0.022721 -0.192711\n",
              "occupation            0.089686      0.019435  ...       -0.002848  0.049787\n",
              "relationship         -0.088431     -0.056818  ...       -0.007144 -0.253402\n",
              "race                  0.031655      0.014078  ...        0.124342  0.070844\n",
              "sex                   0.003417      0.047444  ...       -0.004170  0.215760\n",
              "native-country        0.092994      0.007643  ...        1.000000  0.020103\n",
              "income                0.332800      0.221034  ...        0.020103  1.000000\n",
              "\n",
              "[13 rows x 13 columns]"
            ]
          },
          "metadata": {
            "tags": []
          },
          "execution_count": 73
        }
      ]
    },
    {
      "cell_type": "code",
      "metadata": {
        "id": "fZTzSe1XRab7",
        "colab_type": "code",
        "outputId": "f064a2da-b75c-4ac9-df2d-9bc89b25b278",
        "colab": {
          "base_uri": "https://localhost:8080/",
          "height": 34
        }
      },
      "source": [
        "sns.heatmap(correlation_coefficients,annot=True,cmap=\"Blues\")"
      ],
      "execution_count": 74,
      "outputs": [
        {
          "output_type": "execute_result",
          "data": {
            "text/plain": [
              "<matplotlib.axes._subplots.AxesSubplot at 0x7f779cb06e10>"
            ]
          },
          "metadata": {
            "tags": []
          },
          "execution_count": 74
        }
      ]
    },
    {
      "cell_type": "code",
      "metadata": {
        "id": "lzc9dHYbR6Ug",
        "colab_type": "code",
        "colab": {}
      },
      "source": [
        "# List of strongly correlated features to income\n",
        "new_data.corr().sort_values('income', ascending=False)['income'].plot(kind='barh')\n",
        "plt.gca().invert_yaxis()"
      ],
      "execution_count": 0,
      "outputs": []
    },
    {
      "cell_type": "markdown",
      "metadata": {
        "id": "17OZOkLcNirs",
        "colab_type": "text"
      },
      "source": [
        "# **Feature Selection and Train Test Split**"
      ]
    },
    {
      "cell_type": "code",
      "metadata": {
        "id": "4JciB1cPAc0O",
        "colab_type": "code",
        "colab": {}
      },
      "source": [
        "# write list of features we want to use\n",
        "features = ['workclass','education_level','marital-status','occupation','relationship','race','sex','native-country','education-num','capital-gain','capital-loss','hours-per-week'] \n",
        "\n",
        "# Set X\n",
        "X= new_data[features]\n"
      ],
      "execution_count": 0,
      "outputs": []
    },
    {
      "cell_type": "code",
      "metadata": {
        "id": "qHOEvrcpAc-7",
        "colab_type": "code",
        "colab": {}
      },
      "source": [
        "# Set y\n",
        "y = new_data[\"income\"]"
      ],
      "execution_count": 0,
      "outputs": []
    },
    {
      "cell_type": "code",
      "metadata": {
        "id": "rMo_Bivwk1I5",
        "colab_type": "code",
        "outputId": "b0e949ef-d8a2-43de-cd0f-4578cd43a5ae",
        "colab": {
          "base_uri": "https://localhost:8080/",
          "height": 34
        }
      },
      "source": [
        "X.shape\n"
      ],
      "execution_count": 78,
      "outputs": [
        {
          "output_type": "execute_result",
          "data": {
            "text/plain": [
              "(45222, 12)"
            ]
          },
          "metadata": {
            "tags": []
          },
          "execution_count": 78
        }
      ]
    },
    {
      "cell_type": "code",
      "metadata": {
        "id": "Egd4TA9Xez-O",
        "colab_type": "code",
        "outputId": "1867d406-6ef9-4def-8f9a-d5970e6b2b27",
        "colab": {
          "base_uri": "https://localhost:8080/",
          "height": 34
        }
      },
      "source": [
        "y.shape"
      ],
      "execution_count": 79,
      "outputs": [
        {
          "output_type": "execute_result",
          "data": {
            "text/plain": [
              "(45222,)"
            ]
          },
          "metadata": {
            "tags": []
          },
          "execution_count": 79
        }
      ]
    },
    {
      "cell_type": "code",
      "metadata": {
        "id": "Z5r7rdOyalJy",
        "colab_type": "code",
        "outputId": "dc6c84bc-617a-47b6-caa4-518d8241db6d",
        "colab": {
          "base_uri": "https://localhost:8080/",
          "height": 34
        }
      },
      "source": [
        "new_X =  SelectKBest(chi2,k=12).fit_transform(X,y)\n",
        "X.shape"
      ],
      "execution_count": 80,
      "outputs": [
        {
          "output_type": "execute_result",
          "data": {
            "text/plain": [
              "(45222, 12)"
            ]
          },
          "metadata": {
            "tags": []
          },
          "execution_count": 80
        }
      ]
    },
    {
      "cell_type": "code",
      "metadata": {
        "id": "qI33RRCxbcxj",
        "colab_type": "code",
        "outputId": "738ce46b-5718-4363-d0da-96f009c618f0",
        "colab": {
          "base_uri": "https://localhost:8080/",
          "height": 34
        }
      },
      "source": [
        "new_X.shape"
      ],
      "execution_count": 81,
      "outputs": [
        {
          "output_type": "execute_result",
          "data": {
            "text/plain": [
              "(45222, 12)"
            ]
          },
          "metadata": {
            "tags": []
          },
          "execution_count": 81
        }
      ]
    },
    {
      "cell_type": "code",
      "metadata": {
        "id": "Kc3janMDAdGn",
        "colab_type": "code",
        "colab": {}
      },
      "source": [
        "# Train-test split\n",
        "X_train, X_test, y_train, y_test = train_test_split(new_X, y, test_size = 0.4, random_state = 42)"
      ],
      "execution_count": 0,
      "outputs": []
    },
    {
      "cell_type": "markdown",
      "metadata": {
        "id": "S-ShgqOpNva7",
        "colab_type": "text"
      },
      "source": [
        "# **Predictive Analytics**\n",
        "\n",
        "> Train a model that predicts if the person clicked on the ad or not.\n",
        "\n"
      ]
    },
    {
      "cell_type": "markdown",
      "metadata": {
        "id": "giVIlvPzlxOM",
        "colab_type": "text"
      },
      "source": [
        "### **Logistic Regression**  "
      ]
    },
    {
      "cell_type": "code",
      "metadata": {
        "id": "icqwrSUcOPNr",
        "colab_type": "code",
        "outputId": "d3d4e533-b3b3-43cf-a1e8-465aafec11ff",
        "colab": {
          "base_uri": "https://localhost:8080/",
          "height": 72
        }
      },
      "source": [
        "# initialize model\n",
        "log_reg = LogisticRegression()\n",
        "\n",
        "# fit model\n",
        "log_reg.fit(X_train, y_train)\n",
        "\n",
        "# predictions\n",
        "y_pred = log_reg.predict(X_test)"
      ],
      "execution_count": 83,
      "outputs": [
        {
          "output_type": "stream",
          "text": [
            "/usr/local/lib/python3.6/dist-packages/sklearn/linear_model/logistic.py:432: FutureWarning: Default solver will be changed to 'lbfgs' in 0.22. Specify a solver to silence this warning.\n",
            "  FutureWarning)\n"
          ],
          "name": "stderr"
        }
      ]
    },
    {
      "cell_type": "markdown",
      "metadata": {
        "id": "t906OKr2fyQl",
        "colab_type": "text"
      },
      "source": [
        "#### **Metrics**"
      ]
    },
    {
      "cell_type": "markdown",
      "metadata": {
        "id": "37OoDxh0gEaH",
        "colab_type": "text"
      },
      "source": [
        "##### Accuracy"
      ]
    },
    {
      "cell_type": "code",
      "metadata": {
        "id": "G68NLW3lti8b",
        "colab_type": "code",
        "colab": {}
      },
      "source": [
        "# metrics (accuracy)\n",
        "acc = log_reg.score(X_test, y_test)"
      ],
      "execution_count": 0,
      "outputs": []
    },
    {
      "cell_type": "code",
      "metadata": {
        "id": "wTonXsrxgCN3",
        "colab_type": "code",
        "outputId": "2fc86682-1b6d-413b-c297-7446e99bb955",
        "colab": {
          "base_uri": "https://localhost:8080/",
          "height": 34
        }
      },
      "source": [
        "# accuracy\n",
        "acc"
      ],
      "execution_count": 85,
      "outputs": [
        {
          "output_type": "execute_result",
          "data": {
            "text/plain": [
              "0.8214937254685167"
            ]
          },
          "metadata": {
            "tags": []
          },
          "execution_count": 85
        }
      ]
    },
    {
      "cell_type": "markdown",
      "metadata": {
        "id": "8JVF-Qfqgelq",
        "colab_type": "text"
      },
      "source": [
        "##### Confusion Matrix"
      ]
    },
    {
      "cell_type": "code",
      "metadata": {
        "id": "kG-n6rUDge25",
        "colab_type": "code",
        "outputId": "7a496234-ce79-410f-aedf-f315172ea537",
        "colab": {
          "base_uri": "https://localhost:8080/",
          "height": 52
        }
      },
      "source": [
        "#Confusion matrix\n",
        "cf = confusion_matrix(y_test, y_pred)\n",
        "cf"
      ],
      "execution_count": 86,
      "outputs": [
        {
          "output_type": "execute_result",
          "data": {
            "text/plain": [
              "array([[12895,   741],\n",
              "       [ 2488,  1965]])"
            ]
          },
          "metadata": {
            "tags": []
          },
          "execution_count": 86
        }
      ]
    },
    {
      "cell_type": "code",
      "metadata": {
        "id": "toG5j4Avg9W9",
        "colab_type": "code",
        "outputId": "b535b840-9f9e-4fa9-80bf-28fe8e31875d",
        "colab": {
          "base_uri": "https://localhost:8080/",
          "height": 34
        }
      },
      "source": [
        "## graph confusion matrix\n",
        "sns.heatmap(cf, annot = True)\n",
        "plt.ylabel('Predicted classes')\n",
        "plt.xlabel('Actual classes')"
      ],
      "execution_count": 87,
      "outputs": [
        {
          "output_type": "execute_result",
          "data": {
            "text/plain": [
              "Text(0.5, 31.4861111111111, 'Actual classes')"
            ]
          },
          "metadata": {
            "tags": []
          },
          "execution_count": 87
        }
      ]
    },
    {
      "cell_type": "markdown",
      "metadata": {
        "id": "CPH5hqote5jT",
        "colab_type": "text"
      },
      "source": [
        "##### Precision"
      ]
    },
    {
      "cell_type": "code",
      "metadata": {
        "id": "sP9KqOD8uCXV",
        "colab_type": "code",
        "outputId": "f9ae484f-2389-4e5a-848b-a8b3b7d19b03",
        "colab": {
          "base_uri": "https://localhost:8080/",
          "height": 34
        }
      },
      "source": [
        "log_precision=precision_score(y_test, y_pred)\n",
        "log_precision"
      ],
      "execution_count": 88,
      "outputs": [
        {
          "output_type": "execute_result",
          "data": {
            "text/plain": [
              "0.7261640798226164"
            ]
          },
          "metadata": {
            "tags": []
          },
          "execution_count": 88
        }
      ]
    },
    {
      "cell_type": "markdown",
      "metadata": {
        "id": "aO-z3O8ue605",
        "colab_type": "text"
      },
      "source": [
        "##### Recall"
      ]
    },
    {
      "cell_type": "code",
      "metadata": {
        "id": "4Z0gGNfgC2G3",
        "colab_type": "code",
        "outputId": "9351f5ea-1868-4677-d0ee-daadad1e4296",
        "colab": {
          "base_uri": "https://localhost:8080/",
          "height": 34
        }
      },
      "source": [
        "log_recall=recall_score(y_test, y_pred)\n",
        "log_recall"
      ],
      "execution_count": 89,
      "outputs": [
        {
          "output_type": "execute_result",
          "data": {
            "text/plain": [
              "0.4412755445766899"
            ]
          },
          "metadata": {
            "tags": []
          },
          "execution_count": 89
        }
      ]
    },
    {
      "cell_type": "markdown",
      "metadata": {
        "id": "xYdEyvJ4GzWY",
        "colab_type": "text"
      },
      "source": [
        "##### ROC"
      ]
    },
    {
      "cell_type": "code",
      "metadata": {
        "id": "w8UVDgfjGy74",
        "colab_type": "code",
        "colab": {}
      },
      "source": [
        "y_pred_proba=log_reg.predict_proba(X_test)[::,1]\n",
        "fpr,tpr, _ =roc_curve(y_test, y_pred_proba)\n",
        "auc=roc_auc_score(y_test, y_pred_proba)\n",
        "plt.plot(fpr,tpr,label=\"data 1, auc\"+str(auc))\n",
        "plt.legend(loc=4)\n",
        "plt.show()"
      ],
      "execution_count": 0,
      "outputs": []
    },
    {
      "cell_type": "code",
      "metadata": {
        "id": "yhlwWkquwvuO",
        "colab_type": "code",
        "colab": {}
      },
      "source": [
        "fpr,tpr,_=roc_curve(y_test, y_pred_proba)\n"
      ],
      "execution_count": 0,
      "outputs": []
    },
    {
      "cell_type": "code",
      "metadata": {
        "id": "Ga4r7px7QeGD",
        "colab_type": "code",
        "colab": {
          "base_uri": "https://localhost:8080/",
          "height": 54
        },
        "outputId": "58cd2ea1-20d0-4803-dad6-be819a704061"
      },
      "source": [
        "# log_classificationreport=classification_report(y_test, y_pred)\n",
        "# log_classificationreport"
      ],
      "execution_count": 95,
      "outputs": [
        {
          "output_type": "execute_result",
          "data": {
            "text/plain": [
              "'              precision    recall  f1-score   support\\n\\n           0       0.84      0.95      0.89     13636\\n           1       0.73      0.44      0.55      4453\\n\\n    accuracy                           0.82     18089\\n   macro avg       0.78      0.69      0.72     18089\\nweighted avg       0.81      0.82      0.81     18089\\n'"
            ]
          },
          "metadata": {
            "tags": []
          },
          "execution_count": 95
        }
      ]
    },
    {
      "cell_type": "markdown",
      "metadata": {
        "id": "RqasoT4AKoWz",
        "colab_type": "text"
      },
      "source": [
        "## **RandomForest**"
      ]
    },
    {
      "cell_type": "code",
      "metadata": {
        "id": "cOADDa-lK8ED",
        "colab_type": "code",
        "colab": {}
      },
      "source": [
        "clf = RandomForestClassifier(n_estimators=10)\n",
        "clf = clf.fit(X, Y)"
      ],
      "execution_count": 0,
      "outputs": []
    },
    {
      "cell_type": "markdown",
      "metadata": {
        "id": "--b7uW6ZLD9V",
        "colab_type": "text"
      },
      "source": [
        "## **XGBOOST**"
      ]
    },
    {
      "cell_type": "code",
      "metadata": {
        "id": "1NEQsuIMEuyA",
        "colab_type": "code",
        "colab": {}
      },
      "source": [
        "# initialize model\n",
        "xgb = XGBClassifier()\n",
        "\n",
        "# fit model\n",
        "xgb.fit(X_train, y_train)\n",
        "\n",
        "# predictions\n",
        "y_pred = xgb.predict(X_test)"
      ],
      "execution_count": 0,
      "outputs": []
    },
    {
      "cell_type": "markdown",
      "metadata": {
        "colab_type": "text",
        "id": "N03FKi0uRKvN"
      },
      "source": [
        "##### Accuracy"
      ]
    },
    {
      "cell_type": "code",
      "metadata": {
        "id": "5PuCdHCCIl51",
        "colab_type": "code",
        "colab": {}
      },
      "source": [
        "acc_xgb=xgb.score(X_test, y_test)"
      ],
      "execution_count": 0,
      "outputs": []
    },
    {
      "cell_type": "code",
      "metadata": {
        "id": "RUAtkMosIpv9",
        "colab_type": "code",
        "outputId": "eb1527ce-9003-4b37-96f1-13ceb2365dee",
        "colab": {
          "base_uri": "https://localhost:8080/",
          "height": 34
        }
      },
      "source": [
        "acc_xgb"
      ],
      "execution_count": 0,
      "outputs": [
        {
          "output_type": "execute_result",
          "data": {
            "text/plain": [
              "0.8604676875449168"
            ]
          },
          "metadata": {
            "tags": []
          },
          "execution_count": 246
        }
      ]
    },
    {
      "cell_type": "markdown",
      "metadata": {
        "colab_type": "text",
        "id": "HY9fq5oERRvr"
      },
      "source": [
        "##### Confusion Matrix"
      ]
    },
    {
      "cell_type": "code",
      "metadata": {
        "id": "Zb-LjP7-Iqav",
        "colab_type": "code",
        "outputId": "69249af6-a6e7-4cbc-c3d7-32efeaba3218",
        "colab": {
          "base_uri": "https://localhost:8080/",
          "height": 52
        }
      },
      "source": [
        "#Confusion matrix\n",
        "cf_xgb = confusion_matrix(y_test, y_pred)\n",
        "cf_xgb"
      ],
      "execution_count": 0,
      "outputs": [
        {
          "output_type": "execute_result",
          "data": {
            "text/plain": [
              "array([[12974,   662],\n",
              "       [ 1862,  2591]])"
            ]
          },
          "metadata": {
            "tags": []
          },
          "execution_count": 247
        }
      ]
    },
    {
      "cell_type": "code",
      "metadata": {
        "id": "73913sAuI6O0",
        "colab_type": "code",
        "outputId": "73a2f7cf-31db-42d4-b081-011fdf36ec0b",
        "colab": {
          "base_uri": "https://localhost:8080/",
          "height": 648
        }
      },
      "source": [
        "## graph confusion matrix\n",
        "sns.heatmap(cf_xgb, annot = True)\n",
        "plt.ylabel('Predicted classes')\n",
        "plt.xlabel('Actual classes')"
      ],
      "execution_count": 0,
      "outputs": [
        {
          "output_type": "execute_result",
          "data": {
            "text/plain": [
              "Text(0.5, 66.5, 'Actual classes')"
            ]
          },
          "metadata": {
            "tags": []
          },
          "execution_count": 248
        },
        {
          "output_type": "display_data",
          "data": {
            "image/png": "[encoded data removed]",
            "text/plain": [
              "<Figure size 1440x720 with 2 Axes>"
            ]
          },
          "metadata": {
            "tags": []
          }
        }
      ]
    },
    {
      "cell_type": "markdown",
      "metadata": {
        "colab_type": "text",
        "id": "UxvmietLRW4q"
      },
      "source": [
        "##### Precision"
      ]
    },
    {
      "cell_type": "code",
      "metadata": {
        "id": "nBMpO3q0JFfm",
        "colab_type": "code",
        "outputId": "5992445e-ec3a-4c71-9885-47ed2838a9ba",
        "colab": {
          "base_uri": "https://localhost:8080/",
          "height": 34
        }
      },
      "source": [
        "xgb_precision=precision_score(y_test, y_pred)\n",
        "xgb_precision"
      ],
      "execution_count": 0,
      "outputs": [
        {
          "output_type": "execute_result",
          "data": {
            "text/plain": [
              "0.7964955425760836"
            ]
          },
          "metadata": {
            "tags": []
          },
          "execution_count": 250
        }
      ]
    },
    {
      "cell_type": "markdown",
      "metadata": {
        "colab_type": "text",
        "id": "QSxXIfQcRb9V"
      },
      "source": [
        "##### Recall"
      ]
    },
    {
      "cell_type": "code",
      "metadata": {
        "id": "SGnAsIotJ8TP",
        "colab_type": "code",
        "outputId": "2ec48d16-a85c-409f-edfc-859cbcc84115",
        "colab": {
          "base_uri": "https://localhost:8080/",
          "height": 34
        }
      },
      "source": [
        "xgb_recall=recall_score(y_test, y_pred)\n",
        "xgb_recall"
      ],
      "execution_count": 0,
      "outputs": [
        {
          "output_type": "execute_result",
          "data": {
            "text/plain": [
              "0.5818549292611722"
            ]
          },
          "metadata": {
            "tags": []
          },
          "execution_count": 253
        }
      ]
    },
    {
      "cell_type": "markdown",
      "metadata": {
        "colab_type": "text",
        "id": "nJRjQ5KVRgTL"
      },
      "source": [
        "##### ROC"
      ]
    },
    {
      "cell_type": "code",
      "metadata": {
        "id": "HtYZcKlcSrq9",
        "colab_type": "code",
        "outputId": "a6ca5bc6-3b51-4494-942f-ebfb6d29b54a",
        "colab": {
          "base_uri": "https://localhost:8080/",
          "height": 614
        }
      },
      "source": [
        "y_pred_proba=xgb.predict_proba(X_test)[::,1]\n",
        "fpr,tpr, _ =roc_curve(y_test, y_pred_proba)\n",
        "auc=roc_auc_score(y_test, y_pred_proba)\n",
        "plt.plot(fpr,tpr,label=\"data 1, auc\"+str(auc))\n",
        "plt.legend(loc=4)\n",
        "plt.show()"
      ],
      "execution_count": 0,
      "outputs": [
        {
          "output_type": "display_data",
          "data": {
            "image/png": "[encoded data removed]",
            "text/plain": [
              "<Figure size 1440x720 with 1 Axes>"
            ]
          },
          "metadata": {
            "tags": []
          }
        }
      ]
    }
  ]
}